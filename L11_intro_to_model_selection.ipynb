{
  "nbformat": 4,
  "nbformat_minor": 0,
  "metadata": {
    "colab": {
      "name": "L11_intro to model selection.ipynb",
      "provenance": [],
      "authorship_tag": "ABX9TyMF6+V/X/vjttWG5qDMFwqp",
      "include_colab_link": true
    },
    "kernelspec": {
      "name": "python3",
      "display_name": "Python 3"
    },
    "language_info": {
      "name": "python"
    }
  },
  "cells": [
    {
      "cell_type": "markdown",
      "metadata": {
        "id": "view-in-github",
        "colab_type": "text"
      },
      "source": [
        "<a href=\"https://colab.research.google.com/github/MariaLFreitas/Machine_learning/blob/main/L11_intro_to_model_selection.ipynb\" target=\"_parent\"><img src=\"https://colab.research.google.com/assets/colab-badge.svg\" alt=\"Open In Colab\"/></a>"
      ]
    },
    {
      "cell_type": "markdown",
      "metadata": {
        "id": "wxReoTfpgK22"
      },
      "source": [
        "#Criação pipeline usando os  dados da base Breast cancer"
      ]
    },
    {
      "cell_type": "markdown",
      "metadata": {
        "id": "P33_sGRjjD92"
      },
      "source": [
        "importação de bibliotecas necessaria para fazer o pipeline"
      ]
    },
    {
      "cell_type": "code",
      "metadata": {
        "id": "qPtygtDUBcXO"
      },
      "source": [
        "import numpy as np\n",
        "\n",
        "from sklearn import datasets\n",
        "from sklearn.decomposition import PCA\n",
        "from sklearn.model_selection import GridSearchCV\n",
        "from sklearn.pipeline import Pipeline\n",
        "from sklearn.neighbors import KNeighborsClassifier\n",
        "from sklearn.preprocessing import StandardScaler\n",
        "from sklearn.model_selection import train_test_split\n",
        "from sklearn.metrics import accuracy_score\n"
      ],
      "execution_count": null,
      "outputs": []
    },
    {
      "cell_type": "markdown",
      "metadata": {
        "id": "_FCgtK5PgLlD"
      },
      "source": [
        "Acessando a base breast cancer"
      ]
    },
    {
      "cell_type": "code",
      "metadata": {
        "id": "OoXzk736X4fy"
      },
      "source": [
        "bcancer = datasets.load_breast_cancer()\n",
        "\n",
        "X = bcancer.data\n",
        "y = bcancer.target"
      ],
      "execution_count": null,
      "outputs": []
    },
    {
      "cell_type": "markdown",
      "metadata": {
        "id": "vq_C1sqWgM-X"
      },
      "source": [
        "Separando a base, em base de treinamento e base de teste.\n",
        "\n"
      ]
    },
    {
      "cell_type": "code",
      "metadata": {
        "id": "FgPl1KgVYMcH"
      },
      "source": [
        "X_train, X_test, y_train, y_test = train_test_split(X, y, test_size=0.2, shuffle=True, random_state=1, stratify=y)"
      ],
      "execution_count": null,
      "outputs": []
    },
    {
      "cell_type": "markdown",
      "metadata": {
        "id": "4YfxYdjolX6n"
      },
      "source": [
        "Criando o pipeline"
      ]
    },
    {
      "cell_type": "code",
      "metadata": {
        "id": "wlBclgpclbzj"
      },
      "source": [
        "pipe = Pipeline([\n",
        "        ('normalizador', StandardScaler()),\n",
        "        ('redutor_dim', PCA()),\n",
        "        ('classificador', KNeighborsClassifier(n_neighbors=2))\n",
        "])"
      ],
      "execution_count": null,
      "outputs": []
    },
    {
      "cell_type": "markdown",
      "metadata": {
        "id": "nNdfHuDhmwYN"
      },
      "source": [
        "Agora será treinado o pipeline"
      ]
    },
    {
      "cell_type": "code",
      "metadata": {
        "colab": {
          "base_uri": "https://localhost:8080/"
        },
        "id": "IVU-oh_-mw8m",
        "outputId": "51a7e93f-71fd-4857-a474-c6037eb49ef9"
      },
      "source": [
        "pipe.fit(X_train,y_train)"
      ],
      "execution_count": null,
      "outputs": [
        {
          "output_type": "execute_result",
          "data": {
            "text/plain": [
              "Pipeline(memory=None,\n",
              "         steps=[('normalizador',\n",
              "                 StandardScaler(copy=True, with_mean=True, with_std=True)),\n",
              "                ('redutor_dim',\n",
              "                 PCA(copy=True, iterated_power='auto', n_components=None,\n",
              "                     random_state=None, svd_solver='auto', tol=0.0,\n",
              "                     whiten=False)),\n",
              "                ('classificador',\n",
              "                 KNeighborsClassifier(algorithm='auto', leaf_size=30,\n",
              "                                      metric='minkowski', metric_params=None,\n",
              "                                      n_jobs=None, n_neighbors=2, p=2,\n",
              "                                      weights='uniform'))],\n",
              "         verbose=False)"
            ]
          },
          "metadata": {
            "tags": []
          },
          "execution_count": 9
        }
      ]
    },
    {
      "cell_type": "code",
      "metadata": {
        "colab": {
          "base_uri": "https://localhost:8080/"
        },
        "id": "9vvZOrjonzLN",
        "outputId": "51fe1e3e-193b-41e8-bdf8-186c2a2205e2"
      },
      "source": [
        "y_test_pred = pipe.predict(X_test)\n",
        "accuracy_score(y_test,y_test_pred)"
      ],
      "execution_count": null,
      "outputs": [
        {
          "output_type": "execute_result",
          "data": {
            "text/plain": [
              "0.9649122807017544"
            ]
          },
          "metadata": {
            "tags": []
          },
          "execution_count": 10
        }
      ]
    },
    {
      "cell_type": "code",
      "metadata": {
        "colab": {
          "base_uri": "https://localhost:8080/"
        },
        "id": "0sMBWNMpsUaF",
        "outputId": "12ad58a5-0d1b-4641-c162-e1e31788fdf8"
      },
      "source": [
        "y_train_pred = pipe.predict(X_train)\n",
        "accuracy_score(y_train,y_train_pred)"
      ],
      "execution_count": null,
      "outputs": [
        {
          "output_type": "execute_result",
          "data": {
            "text/plain": [
              "0.978021978021978"
            ]
          },
          "metadata": {
            "tags": []
          },
          "execution_count": 11
        }
      ]
    },
    {
      "cell_type": "markdown",
      "metadata": {
        "id": "js6b4ZiynbKY"
      },
      "source": [
        "###Grid-search"
      ]
    },
    {
      "cell_type": "code",
      "metadata": {
        "id": "Bpj_jgAytOpK"
      },
      "source": [
        "param_grid = {\n",
        "    'redutor_dim__n_components': [1, 2, 3, 4, 5, 6, 7, 8, 9, 10],\n",
        "    'classificador__n_neighbors': [ 10, 12, 14, 16, 18, 20, 22, 24, 26, 28]\n",
        "}\n",
        "\n",
        "grid = GridSearchCV(pipe, cv=2, n_jobs=1, param_grid= param_grid, scoring='accuracy' )"
      ],
      "execution_count": null,
      "outputs": []
    },
    {
      "cell_type": "markdown",
      "metadata": {
        "id": "sq2BKH-5wXkW"
      },
      "source": [
        "Testar os classificadores"
      ]
    },
    {
      "cell_type": "code",
      "metadata": {
        "colab": {
          "base_uri": "https://localhost:8080/"
        },
        "id": "IDSLLG2QwR8j",
        "outputId": "41158306-9cd4-4776-ea19-fa6fd81e80ea"
      },
      "source": [
        "grid.fit(X_train, y_train)"
      ],
      "execution_count": null,
      "outputs": [
        {
          "output_type": "execute_result",
          "data": {
            "text/plain": [
              "GridSearchCV(cv=2, error_score=nan,\n",
              "             estimator=Pipeline(memory=None,\n",
              "                                steps=[('normalizador',\n",
              "                                        StandardScaler(copy=True,\n",
              "                                                       with_mean=True,\n",
              "                                                       with_std=True)),\n",
              "                                       ('redutor_dim',\n",
              "                                        PCA(copy=True, iterated_power='auto',\n",
              "                                            n_components=None,\n",
              "                                            random_state=None,\n",
              "                                            svd_solver='auto', tol=0.0,\n",
              "                                            whiten=False)),\n",
              "                                       ('classificador',\n",
              "                                        KNeighborsClassifier(algorithm='auto',\n",
              "                                                             leaf_size=30,\n",
              "                                                             metric='minkowski',\n",
              "                                                             metric_params=None,\n",
              "                                                             n_jobs=None,\n",
              "                                                             n_neighbors=2, p=2,\n",
              "                                                             weights='uniform'))],\n",
              "                                verbose=False),\n",
              "             iid='deprecated', n_jobs=1,\n",
              "             param_grid={'classificador__n_neighbors': [10, 12, 14, 16, 18, 20,\n",
              "                                                        22, 24, 26, 28],\n",
              "                         'redutor_dim__n_components': [1, 2, 3, 4, 5, 6, 7, 8,\n",
              "                                                       9, 10]},\n",
              "             pre_dispatch='2*n_jobs', refit=True, return_train_score=False,\n",
              "             scoring='accuracy', verbose=0)"
            ]
          },
          "metadata": {
            "tags": []
          },
          "execution_count": 13
        }
      ]
    },
    {
      "cell_type": "markdown",
      "metadata": {
        "id": "8HPMubvJyXUa"
      },
      "source": [
        "Melhor score e melhores parametros"
      ]
    },
    {
      "cell_type": "code",
      "metadata": {
        "colab": {
          "base_uri": "https://localhost:8080/"
        },
        "id": "pWQIoG3wyXAP",
        "outputId": "c2dba458-b67c-4020-db95-7baac2a45b02"
      },
      "source": [
        "print(grid.best_score_)\n",
        "print(grid.best_params_)"
      ],
      "execution_count": null,
      "outputs": [
        {
          "output_type": "stream",
          "text": [
            "0.9604297086328155\n",
            "{'classificador__n_neighbors': 10, 'redutor_dim__n_components': 8}\n"
          ],
          "name": "stdout"
        }
      ]
    },
    {
      "cell_type": "markdown",
      "metadata": {
        "id": "eyKCg02W0uNO"
      },
      "source": [
        "Criando um novo classificador com base nos parametros de estimador."
      ]
    },
    {
      "cell_type": "code",
      "metadata": {
        "colab": {
          "base_uri": "https://localhost:8080/"
        },
        "id": "A9CJshLSxnfL",
        "outputId": "a05158c3-0e4d-43c9-dee8-f4b4d74c4d14"
      },
      "source": [
        "clf = grid.best_estimator_\n",
        "\n",
        "y_test_pred = clf.predict(X_test)\n",
        "accuracy_score(y_test, y_test_pred)"
      ],
      "execution_count": null,
      "outputs": [
        {
          "output_type": "execute_result",
          "data": {
            "text/plain": [
              "0.9649122807017544"
            ]
          },
          "metadata": {
            "tags": []
          },
          "execution_count": 15
        }
      ]
    },
    {
      "cell_type": "code",
      "metadata": {
        "colab": {
          "base_uri": "https://localhost:8080/"
        },
        "id": "Igg1uOk82H5m",
        "outputId": "017aa111-4f3a-4e0c-8c6f-fba6798e50ab"
      },
      "source": [
        "y_train_pred = clf.predict(X_train)\n",
        "accuracy_score(y_train, y_train_pred)"
      ],
      "execution_count": null,
      "outputs": [
        {
          "output_type": "execute_result",
          "data": {
            "text/plain": [
              "0.9714285714285714"
            ]
          },
          "metadata": {
            "tags": []
          },
          "execution_count": 16
        }
      ]
    }
  ]
}