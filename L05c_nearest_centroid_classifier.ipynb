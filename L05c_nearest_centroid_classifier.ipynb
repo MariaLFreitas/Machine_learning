{
  "nbformat": 4,
  "nbformat_minor": 0,
  "metadata": {
    "colab": {
      "name": "L05c_nearest centroid classifier.ipynb",
      "provenance": [],
      "authorship_tag": "ABX9TyN6EAV5UGQ5yeNynF5WEtF2",
      "include_colab_link": true
    },
    "kernelspec": {
      "name": "python3",
      "display_name": "Python 3"
    },
    "language_info": {
      "name": "python"
    }
  },
  "cells": [
    {
      "cell_type": "markdown",
      "metadata": {
        "id": "view-in-github",
        "colab_type": "text"
      },
      "source": [
        "<a href=\"https://colab.research.google.com/github/MariaLFreitas/Machine_learning/blob/main/L05c_nearest_centroid_classifier.ipynb\" target=\"_parent\"><img src=\"https://colab.research.google.com/assets/colab-badge.svg\" alt=\"Open In Colab\"/></a>"
      ]
    },
    {
      "cell_type": "markdown",
      "metadata": {
        "id": "Zxo_V3E5VVdN"
      },
      "source": [
        "#Implementação com scikit learn\n",
        "(Para base)"
      ]
    },
    {
      "cell_type": "code",
      "metadata": {
        "id": "Y6kwWIfqVLX8"
      },
      "source": [
        "from sklearn.neighbors import NearestCentroid\n",
        "import numpy as np\n",
        "\n",
        "X_train = np.array([[-1, -1], [-2, -1], [-3, -2], [1, 1], [2, 1], [3, 2]])\n",
        "y_train = np.array([0, 0, 0, 1, 1, 1])\n",
        "\n",
        "X_test = np.array([[-1, -2], [0, -1], [-3, -3], [2, 2],  [1, 2]])\n",
        "y_test = np.array([0, 0, 0, 1, 1])\n"
      ],
      "execution_count": null,
      "outputs": []
    },
    {
      "cell_type": "code",
      "metadata": {
        "colab": {
          "base_uri": "https://localhost:8080/"
        },
        "id": "fWXuwhsLVe_D",
        "outputId": "5c58f08f-2870-4f18-d8c4-42cb85fdf2b4"
      },
      "source": [
        "cn_model = NearestCentroid(metric='euclidean')\n",
        "cn_model.fit(X_train, y_train)\n",
        "\n",
        "cn_model.centroids_"
      ],
      "execution_count": null,
      "outputs": [
        {
          "output_type": "execute_result",
          "data": {
            "text/plain": [
              "array([[-2.        , -1.33333333],\n",
              "       [ 2.        ,  1.33333333]])"
            ]
          },
          "metadata": {
            "tags": []
          },
          "execution_count": 224
        }
      ]
    },
    {
      "cell_type": "code",
      "metadata": {
        "colab": {
          "base_uri": "https://localhost:8080/"
        },
        "id": "xY-H46YfVjHh",
        "outputId": "c62d4f1f-6c16-438f-82ee-7260e20318af"
      },
      "source": [
        "import matplotlib.pyplot as plt\n",
        "\n",
        "plt.scatter(X_train[y_train==0, 0], X_train[y_train==0, 1], c='r')\n",
        "plt.scatter(X_train[y_train==1, 0], X_train[y_train==1, 1], c='g')\n",
        "\n",
        "plt.scatter(cn_model.centroids_[:,0], cn_model.centroids_[:,1], s=200, marker='*', c='k')"
      ],
      "execution_count": null,
      "outputs": [
        {
          "output_type": "execute_result",
          "data": {
            "text/plain": [
              "<matplotlib.collections.PathCollection at 0x7fa203a6a210>"
            ]
          },
          "metadata": {
            "tags": []
          },
          "execution_count": 225
        },
        {
          "output_type": "display_data",
          "data": {
            "image/png": "[encoded data removed]",
            "text/plain": [
              "<Figure size 432x288 with 1 Axes>"
            ]
          },
          "metadata": {
            "tags": [],
            "needs_background": "light"
          }
        }
      ]
    },
    {
      "cell_type": "code",
      "metadata": {
        "colab": {
          "base_uri": "https://localhost:8080/"
        },
        "id": "fiki52koVl_t",
        "outputId": "7ad2c008-e4a5-44a3-8f78-b38b2b10c66e"
      },
      "source": [
        "y_pred = cn_model.predict(X_test)\n",
        "print(y_pred)\n",
        "print(y_test)"
      ],
      "execution_count": null,
      "outputs": [
        {
          "output_type": "stream",
          "text": [
            "[0 0 0 1 1]\n",
            "[0 0 0 1 1]\n"
          ],
          "name": "stdout"
        }
      ]
    },
    {
      "cell_type": "code",
      "metadata": {
        "colab": {
          "base_uri": "https://localhost:8080/"
        },
        "id": "QujC8db7VolD",
        "outputId": "a568dee3-b19e-43c2-eb38-f9a4af40fb13"
      },
      "source": [
        "from sklearn.metrics import accuracy_score\n",
        "\n",
        "accuracy_score(y_test, y_pred)"
      ],
      "execution_count": null,
      "outputs": [
        {
          "output_type": "execute_result",
          "data": {
            "text/plain": [
              "1.0"
            ]
          },
          "metadata": {
            "tags": []
          },
          "execution_count": 227
        }
      ]
    },
    {
      "cell_type": "markdown",
      "metadata": {
        "id": "h81BzX3ZVioj"
      },
      "source": [
        "#Implementação com Scratch"
      ]
    },
    {
      "cell_type": "markdown",
      "metadata": {
        "id": "j-3oVOC8aQeg"
      },
      "source": [
        "## `Fit`\n",
        "Guardando os labels, retornando a media em determinado eixo e os armazenando em um array\n",
        "\n",
        "## `Predict`\n",
        "Calculando a distancia euclidiana e armazenando a menor em um array\n",
        "\n",
        "## `Score`\n",
        "Calculando o acerto do teste com a predição"
      ]
    },
    {
      "cell_type": "code",
      "metadata": {
        "id": "qcYCCrnkVzdL"
      },
      "source": [
        "from scipy.spatial import distance\n",
        "class NearestCentroidScratch():\n",
        "  def __init__(self, metric='eucledian'):\n",
        "    self.metric = metric\n",
        "    self.centroids_ = np.array([])\n",
        "    self.target_ = np.array([])\n",
        "  \n",
        "  def fit(self, X, y):\n",
        "    self.target_ = np.unique(y)\n",
        "    c = [np.mean(X[y==i], axis=0) for i in self.target_]\n",
        "    self.centroids_ = np.vstack((c))\n",
        "    #print(self.centroids_)\n",
        "\n",
        "  def predict(self, X): \n",
        "    self.predict_ = np.array([], dtype=int)   \n",
        "    for i in X:                                               \n",
        "      dist = []\n",
        "      [dist.append(distance.euclidean(i, self.centroids_[j,:])) for j in range(len(self.target_))] \n",
        "      self.predict_ = np.hstack((self.predict_, self.target_[dist.index(np.min(dist))])) \n",
        "      #print(self.predict_) \n",
        "    return self.predict_\n",
        "\n",
        "  def score(self, x,y):\n",
        "    m1 = np.sum(y)\n",
        "    m2 = np.sum(x)\n",
        "    self.score_ = m1/m2\n",
        "    return self.score_"
      ],
      "execution_count": null,
      "outputs": []
    },
    {
      "cell_type": "code",
      "metadata": {
        "id": "17UXtE3vV2s6"
      },
      "source": [
        "import numpy as np\n",
        "\n",
        "X_train = np.array([[-1, -1], [-2, -1], [-3, -2], [1, 1], [2, 1], [3, 2]])\n",
        "y_train = np.array([1, 1, 1, 2, 2, 2])\n",
        "\n",
        "X_test = np.array([[-1, -2], [0, -1], [-3, -3], [2, 2],  [1, 2]])\n",
        "y_test = np.array([1, 1, 1, 2, 2])"
      ],
      "execution_count": null,
      "outputs": []
    },
    {
      "cell_type": "markdown",
      "metadata": {
        "id": "ibATg93erI62"
      },
      "source": [
        "Inicalizando e obtendo as médias"
      ]
    },
    {
      "cell_type": "code",
      "metadata": {
        "colab": {
          "base_uri": "https://localhost:8080/"
        },
        "id": "JB4De7nmV6Pb",
        "outputId": "6ae71eae-c19b-4f7e-cb11-23ef3269ceeb"
      },
      "source": [
        "clf = NearestCentroidScratch()\n",
        "clf.fit(X_train, y_train)\n",
        "\n",
        "clf.centroids_\n",
        "\n"
      ],
      "execution_count": null,
      "outputs": [
        {
          "output_type": "execute_result",
          "data": {
            "text/plain": [
              "array([[-2.        , -1.33333333],\n",
              "       [ 2.        ,  1.33333333]])"
            ]
          },
          "metadata": {
            "tags": []
          },
          "execution_count": 230
        }
      ]
    },
    {
      "cell_type": "code",
      "metadata": {
        "colab": {
          "base_uri": "https://localhost:8080/",
          "height": 282
        },
        "id": "a-hSAohtM9nM",
        "outputId": "183adb36-9d38-442f-b911-3a2d1de1db0a"
      },
      "source": [
        "import matplotlib.pyplot as plt\n",
        "\n",
        "plt.scatter(X_train[y_train==1, 0], X_train[y_train==1, 1], c='r')\n",
        "plt.scatter(X_train[y_train==2, 0], X_train[y_train==2, 1], c='g')\n",
        "\n",
        "plt.scatter(clf.centroids_[:,0], clf.centroids_ [:,1], s=200, marker='*', c='k')"
      ],
      "execution_count": null,
      "outputs": [
        {
          "output_type": "execute_result",
          "data": {
            "text/plain": [
              "<matplotlib.collections.PathCollection at 0x7fa2039e51d0>"
            ]
          },
          "metadata": {
            "tags": []
          },
          "execution_count": 231
        },
        {
          "output_type": "display_data",
          "data": {
            "image/png": "[encoded data removed]",
            "text/plain": [
              "<Figure size 432x288 with 1 Axes>"
            ]
          },
          "metadata": {
            "tags": [],
            "needs_background": "light"
          }
        }
      ]
    },
    {
      "cell_type": "markdown",
      "metadata": {
        "id": "oSgGFcsjrSpc"
      },
      "source": [
        "Calculando a predição, já é possivel fazer uma comparação dos acertos"
      ]
    },
    {
      "cell_type": "code",
      "metadata": {
        "colab": {
          "base_uri": "https://localhost:8080/"
        },
        "id": "SPYK94KyV8h4",
        "outputId": "078358c8-28a5-4660-f91d-06356c6a2929"
      },
      "source": [
        "y_pred = clf.predict(X_test)\n",
        "print(y_pred)\n",
        "print(y_test)"
      ],
      "execution_count": null,
      "outputs": [
        {
          "output_type": "stream",
          "text": [
            "[1 1 1 2 2]\n",
            "[1 1 1 2 2]\n"
          ],
          "name": "stdout"
        }
      ]
    },
    {
      "cell_type": "markdown",
      "metadata": {
        "id": "kV-HwibcrhRz"
      },
      "source": [
        "Calculando os acertos (1 para 100%)"
      ]
    },
    {
      "cell_type": "code",
      "metadata": {
        "colab": {
          "base_uri": "https://localhost:8080/"
        },
        "id": "EoQQgTBgV_Oz",
        "outputId": "0544ab97-4052-4f8f-f2e0-c805f30398b0"
      },
      "source": [
        "clf.score(y_test, y_pred)"
      ],
      "execution_count": null,
      "outputs": [
        {
          "output_type": "execute_result",
          "data": {
            "text/plain": [
              "1.0"
            ]
          },
          "metadata": {
            "tags": []
          },
          "execution_count": 233
        }
      ]
    }
  ]
}