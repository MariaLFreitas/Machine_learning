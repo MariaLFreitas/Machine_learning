{
  "nbformat": 4,
  "nbformat_minor": 0,
  "metadata": {
    "colab": {
      "name": "L14_model evaluation.ipynb",
      "provenance": [],
      "authorship_tag": "ABX9TyPzn4N5jepzDRU5OGdPrqRH",
      "include_colab_link": true
    },
    "kernelspec": {
      "name": "python3",
      "display_name": "Python 3"
    },
    "language_info": {
      "name": "python"
    }
  },
  "cells": [
    {
      "cell_type": "markdown",
      "metadata": {
        "id": "view-in-github",
        "colab_type": "text"
      },
      "source": [
        "<a href=\"https://colab.research.google.com/github/MariaLFreitas/Machine_learning/blob/main/L14_model_evaluation.ipynb\" target=\"_parent\"><img src=\"https://colab.research.google.com/assets/colab-badge.svg\" alt=\"Open In Colab\"/></a>"
      ]
    },
    {
      "cell_type": "code",
      "metadata": {
        "id": "GTSJnRLKAX6I"
      },
      "source": [
        "import numpy as np\n",
        "\n",
        "from sklearn.tree import DecisionTreeClassifier\n",
        "from sklearn.tree import DecisionTreeRegressor\n",
        "from sklearn import datasets\n",
        "from sklearn.decomposition import PCA\n",
        "from sklearn.model_selection import GridSearchCV\n",
        "from sklearn.pipeline import Pipeline\n",
        "from sklearn.preprocessing import StandardScaler\n",
        "from sklearn.metrics import accuracy_score\n",
        "from sklearn.metrics import zero_one_loss\n",
        "from sklearn.metrics import mean_squared_error\n",
        "\n",
        "from sklearn.model_selection import train_test_split"
      ],
      "execution_count": null,
      "outputs": []
    },
    {
      "cell_type": "code",
      "metadata": {
        "colab": {
          "base_uri": "https://localhost:8080/"
        },
        "id": "5liijdmD_xwJ",
        "outputId": "17fc707b-f8e6-44be-a68a-bbc32a98e60a"
      },
      "source": [
        "pip install mlxtend --upgrade --no-deps"
      ],
      "execution_count": null,
      "outputs": [
        {
          "output_type": "stream",
          "text": [
            "Requirement already satisfied: mlxtend in /usr/local/lib/python3.7/dist-packages (0.18.0)\n"
          ],
          "name": "stdout"
        }
      ]
    },
    {
      "cell_type": "code",
      "metadata": {
        "id": "h5uXRsMy_1Mc"
      },
      "source": [
        "from mlxtend.evaluate import bias_variance_decomp"
      ],
      "execution_count": null,
      "outputs": []
    },
    {
      "cell_type": "code",
      "metadata": {
        "id": "gNE3B4iDDAeC"
      },
      "source": [
        "diabetes = datasets.load_diabetes()\n",
        "X = diabetes.data\n",
        "y = diabetes.target\n"
      ],
      "execution_count": null,
      "outputs": []
    },
    {
      "cell_type": "code",
      "metadata": {
        "id": "hTo9ETXiFjCN"
      },
      "source": [
        "X_train, X_test, y_train, y_test =train_test_split(X, y, test_size=0.2, shuffle=True, random_state=1)"
      ],
      "execution_count": null,
      "outputs": []
    },
    {
      "cell_type": "code",
      "metadata": {
        "id": "9LhqY5tVPGtJ"
      },
      "source": [
        "pipe = Pipeline([\n",
        "        ('normalizador', StandardScaler()),\n",
        "        ('redutor_dim', PCA()),\n",
        "        ('classificador', DecisionTreeClassifier())\n",
        "])"
      ],
      "execution_count": null,
      "outputs": []
    },
    {
      "cell_type": "code",
      "metadata": {
        "colab": {
          "base_uri": "https://localhost:8080/"
        },
        "id": "MhM7Do3PeLMI",
        "outputId": "029982ba-dc9b-4cbf-bdcf-a3f610305f68"
      },
      "source": [
        "pipe.fit(X_train,y_train)"
      ],
      "execution_count": null,
      "outputs": [
        {
          "output_type": "execute_result",
          "data": {
            "text/plain": [
              "Pipeline(memory=None,\n",
              "         steps=[('normalizador',\n",
              "                 StandardScaler(copy=True, with_mean=True, with_std=True)),\n",
              "                ('redutor_dim',\n",
              "                 PCA(copy=True, iterated_power='auto', n_components=None,\n",
              "                     random_state=None, svd_solver='auto', tol=0.0,\n",
              "                     whiten=False)),\n",
              "                ('classificador',\n",
              "                 DecisionTreeClassifier(ccp_alpha=0.0, class_weight=None,\n",
              "                                        criterion='gini', max_depth=None,\n",
              "                                        max_features=None, max_leaf_nodes=None,\n",
              "                                        min_impurity_decrease=0.0,\n",
              "                                        min_impurity_split=None,\n",
              "                                        min_samples_leaf=1, min_samples_split=2,\n",
              "                                        min_weight_fraction_leaf=0.0,\n",
              "                                        presort='deprecated', random_state=None,\n",
              "                                        splitter='best'))],\n",
              "         verbose=False)"
            ]
          },
          "metadata": {},
          "execution_count": 128
        }
      ]
    },
    {
      "cell_type": "code",
      "metadata": {
        "id": "mZzcO28CQE21"
      },
      "source": [
        "params = {\n",
        "    'redutor_dim__n_components': [1, 2, 3, 4, 5, 6, 7],\n",
        "    'classificador__max_depth':[2,3,4,5,6,7,8,9],\n",
        "    'classificador__criterion':['gini','entropy'],\n",
        "   \n",
        "}\n",
        "\n",
        "grid = GridSearchCV(pipe, cv=2, param_grid= params, scoring='accuracy' )"
      ],
      "execution_count": null,
      "outputs": []
    },
    {
      "cell_type": "code",
      "metadata": {
        "colab": {
          "base_uri": "https://localhost:8080/"
        },
        "id": "w9GB-luSTLLO",
        "outputId": "a5bc82b9-b204-47a1-ff69-d61613dc0667"
      },
      "source": [
        "grid.fit(X_train, y_train)"
      ],
      "execution_count": null,
      "outputs": [
        {
          "output_type": "stream",
          "text": [
            "/usr/local/lib/python3.7/dist-packages/sklearn/model_selection/_split.py:667: UserWarning: The least populated class in y has only 1 members, which is less than n_splits=2.\n",
            "  % (min_groups, self.n_splits)), UserWarning)\n"
          ],
          "name": "stderr"
        },
        {
          "output_type": "execute_result",
          "data": {
            "text/plain": [
              "GridSearchCV(cv=2, error_score=nan,\n",
              "             estimator=Pipeline(memory=None,\n",
              "                                steps=[('normalizador',\n",
              "                                        StandardScaler(copy=True,\n",
              "                                                       with_mean=True,\n",
              "                                                       with_std=True)),\n",
              "                                       ('redutor_dim',\n",
              "                                        PCA(copy=True, iterated_power='auto',\n",
              "                                            n_components=None,\n",
              "                                            random_state=None,\n",
              "                                            svd_solver='auto', tol=0.0,\n",
              "                                            whiten=False)),\n",
              "                                       ('classificador',\n",
              "                                        DecisionTreeClassifier(ccp_alpha=0.0,\n",
              "                                                               class_weight=None,\n",
              "                                                               criter...\n",
              "                                                               min_weight_fraction_leaf=0.0,\n",
              "                                                               presort='deprecated',\n",
              "                                                               random_state=None,\n",
              "                                                               splitter='best'))],\n",
              "                                verbose=False),\n",
              "             iid='deprecated', n_jobs=None,\n",
              "             param_grid={'classificador__criterion': ['gini', 'entropy'],\n",
              "                         'classificador__max_depth': [2, 3, 4, 5, 6, 7, 8, 9],\n",
              "                         'redutor_dim__n_components': [1, 2, 3, 4, 5, 6, 7]},\n",
              "             pre_dispatch='2*n_jobs', refit=True, return_train_score=False,\n",
              "             scoring='accuracy', verbose=0)"
            ]
          },
          "metadata": {},
          "execution_count": 130
        }
      ]
    },
    {
      "cell_type": "code",
      "metadata": {
        "id": "NgCwd9sf80Be"
      },
      "source": [
        "y_test_pred = grid.predict(X_test)"
      ],
      "execution_count": null,
      "outputs": []
    },
    {
      "cell_type": "code",
      "metadata": {
        "colab": {
          "base_uri": "https://localhost:8080/"
        },
        "id": "B4u9voFoY20O",
        "outputId": "76535dc4-0c6b-4d4e-df74-a73aabce9b47"
      },
      "source": [
        "print(grid.best_params_,grid.best_score_)"
      ],
      "execution_count": null,
      "outputs": [
        {
          "output_type": "stream",
          "text": [
            "{'classificador__criterion': 'entropy', 'classificador__max_depth': 2, 'redutor_dim__n_components': 3} 0.019838212634822806\n"
          ],
          "name": "stdout"
        }
      ]
    },
    {
      "cell_type": "code",
      "metadata": {
        "colab": {
          "base_uri": "https://localhost:8080/"
        },
        "id": "d0DDaodXAUso",
        "outputId": "a83b7667-6471-41c0-96cd-cd1e5ed340bf"
      },
      "source": [
        "gbs = grid.best_estimator_"
      ],
      "execution_count": null,
      "outputs": [
        {
          "output_type": "stream",
          "text": [
            "Pipeline(memory=None,\n",
            "         steps=[('normalizador',\n",
            "                 StandardScaler(copy=True, with_mean=True, with_std=True)),\n",
            "                ('redutor_dim',\n",
            "                 PCA(copy=True, iterated_power='auto', n_components=3,\n",
            "                     random_state=None, svd_solver='auto', tol=0.0,\n",
            "                     whiten=False)),\n",
            "                ('classificador',\n",
            "                 DecisionTreeClassifier(ccp_alpha=0.0, class_weight=None,\n",
            "                                        criterion='entropy', max_depth=2,\n",
            "                                        max_features=None, max_leaf_nodes=None,\n",
            "                                        min_impurity_decrease=0.0,\n",
            "                                        min_impurity_split=None,\n",
            "                                        min_samples_leaf=1, min_samples_split=2,\n",
            "                                        min_weight_fraction_leaf=0.0,\n",
            "                                        presort='deprecated', random_state=None,\n",
            "                                        splitter='best'))],\n",
            "         verbose=False)\n"
          ],
          "name": "stdout"
        }
      ]
    },
    {
      "cell_type": "code",
      "metadata": {
        "colab": {
          "base_uri": "https://localhost:8080/"
        },
        "id": "8pgL3rwY8o4M",
        "outputId": "c72e3596-601f-411c-be59-713ab1036f4c"
      },
      "source": [
        "accuracy_score(y_test, y_test_pred)"
      ],
      "execution_count": null,
      "outputs": [
        {
          "output_type": "execute_result",
          "data": {
            "text/plain": [
              "0.011235955056179775"
            ]
          },
          "metadata": {},
          "execution_count": 134
        }
      ]
    },
    {
      "cell_type": "code",
      "metadata": {
        "colab": {
          "base_uri": "https://localhost:8080/"
        },
        "id": "DDtOUMlR-HSN",
        "outputId": "237bbf9d-54fb-4041-aefb-670c8bb0e07b"
      },
      "source": [
        "zero_one_loss(y_test,y_test_pred, normalize=False)"
      ],
      "execution_count": null,
      "outputs": [
        {
          "output_type": "execute_result",
          "data": {
            "text/plain": [
              "88"
            ]
          },
          "metadata": {},
          "execution_count": 135
        }
      ]
    },
    {
      "cell_type": "code",
      "metadata": {
        "colab": {
          "base_uri": "https://localhost:8080/"
        },
        "id": "_RAwjPC--Xej",
        "outputId": "9f851e99-228c-4b02-d3ad-64e11f061469"
      },
      "source": [
        "mean_squared_error(y_test, y_test_pred)"
      ],
      "execution_count": null,
      "outputs": [
        {
          "output_type": "execute_result",
          "data": {
            "text/plain": [
              "8129.224719101124"
            ]
          },
          "metadata": {},
          "execution_count": 136
        }
      ]
    },
    {
      "cell_type": "code",
      "metadata": {
        "colab": {
          "base_uri": "https://localhost:8080/"
        },
        "id": "UhKHVBRZ_p6H",
        "outputId": "cc510e07-a970-42fa-c053-b96f7a2993f4"
      },
      "source": [
        "avg_expected_loss, avg_bias, avg_var = bias_variance_decomp(\n",
        "    gbs, X_train, y_train, X_test, y_test, \n",
        "    loss='mse', num_rounds=3,\n",
        "    random_seed=1)\n",
        "\n",
        "print('Avarage expected loss: %.3f' %avg_expected_loss)\n",
        "print('Avarage bias^2: %.3f' %avg_bias)\n",
        "print('Avarage variance: %.3f' %avg_var)"
      ],
      "execution_count": null,
      "outputs": [
        {
          "output_type": "stream",
          "text": [
            "Avarage expected loss: 7937.536\n",
            "Avarage bias^2: 5491.813\n",
            "Avarage variance: 2445.723\n"
          ],
          "name": "stdout"
        }
      ]
    },
    {
      "cell_type": "markdown",
      "metadata": {
        "id": "4g33Vhx3RLlp"
      },
      "source": [
        "É um caso de underfiting, pois tem um alto bias"
      ]
    }
  ]
}